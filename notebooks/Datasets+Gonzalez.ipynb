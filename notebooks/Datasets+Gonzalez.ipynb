{
 "cells": [
  {
   "attachments": {},
   "cell_type": "markdown",
   "metadata": {},
   "source": [
    "# Entrega 1 - Elección de datasets potenciales"
   ]
  },
  {
   "attachments": {},
   "cell_type": "markdown",
   "metadata": {},
   "source": [
    "## Importación de módulos"
   ]
  },
  {
   "cell_type": "code",
   "execution_count": 12,
   "metadata": {},
   "outputs": [],
   "source": [
    "import pandas as pd\n",
    "import numpy as np\n",
    "import matplotlib.pyplot as plt"
   ]
  },
  {
   "attachments": {},
   "cell_type": "markdown",
   "metadata": {},
   "source": [
    "## Dataset 1 - student info at higher education institute"
   ]
  },
  {
   "attachments": {},
   "cell_type": "markdown",
   "metadata": {},
   "source": [
    "#### Fuente:\n",
    "https://www.kaggle.com/datasets/thedevastator/higher-education-predictors-of-student-retention\n",
    "\n",
    "#### Información sobre el dataset:\n",
    "\n",
    "A dataset created from a higher education institution (acquired from several disjoint databases) related to students enrolled in different undergraduate degrees, such as agronomy, design, education, nursing, journalism, management, social service, and technologies.\n",
    "\n",
    "The dataset includes information known at the time of student enrollment (academic path, demographics, and social-economic factors) and the students' academic performance at the end of the first and second semesters.\n",
    "\n",
    "The data is used to build classification models to predict students' dropout and academic success."
   ]
  },
  {
   "attachments": {},
   "cell_type": "markdown",
   "metadata": {},
   "source": [
    "### Carga de los datos a python:"
   ]
  },
  {
   "cell_type": "code",
   "execution_count": 13,
   "metadata": {},
   "outputs": [
    {
     "data": {
      "text/plain": [
       "(4424, 35)"
      ]
     },
     "execution_count": 13,
     "metadata": {},
     "output_type": "execute_result"
    }
   ],
   "source": [
    "studentsDF = pd.read_csv('../data/DS 1 - Students.csv')\n",
    "\n",
    "studentsDF.shape"
   ]
  },
  {
   "attachments": {},
   "cell_type": "markdown",
   "metadata": {},
   "source": [
    "Vemos que este dataset cumple con las condiciones necesarias para la entrega, ahora pasamos a describir las columnas más interesantes de acuerdo al problema planteado (analizar la deserción y el éxito de los alumnos)."
   ]
  },
  {
   "cell_type": "code",
   "execution_count": 14,
   "metadata": {},
   "outputs": [
    {
     "name": "stdout",
     "output_type": "stream",
     "text": [
      "Index(['Marital status', 'Application mode', 'Application order', 'Course',\n",
      "       'Daytime/evening attendance', 'Previous qualification', 'Nacionality',\n",
      "       'Mother's qualification', 'Father's qualification',\n",
      "       'Mother's occupation', 'Father's occupation', 'Displaced',\n",
      "       'Educational special needs', 'Debtor', 'Tuition fees up to date',\n",
      "       'Gender', 'Scholarship holder', 'Age at enrollment', 'International',\n",
      "       'Curricular units 1st sem (credited)',\n",
      "       'Curricular units 1st sem (enrolled)',\n",
      "       'Curricular units 1st sem (evaluations)',\n",
      "       'Curricular units 1st sem (approved)',\n",
      "       'Curricular units 1st sem (grade)',\n",
      "       'Curricular units 1st sem (without evaluations)',\n",
      "       'Curricular units 2nd sem (credited)',\n",
      "       'Curricular units 2nd sem (enrolled)',\n",
      "       'Curricular units 2nd sem (evaluations)',\n",
      "       'Curricular units 2nd sem (approved)',\n",
      "       'Curricular units 2nd sem (grade)',\n",
      "       'Curricular units 2nd sem (without evaluations)', 'Unemployment rate',\n",
      "       'Inflation rate', 'GDP', 'Target'],\n",
      "      dtype='object')\n"
     ]
    }
   ],
   "source": [
    "#Primero imprimimos una visualización de las columnas\n",
    "\n",
    "print(studentsDF.columns)"
   ]
  },
  {
   "attachments": {},
   "cell_type": "markdown",
   "metadata": {},
   "source": [
    "Podríamos considerar realizar un análisis de qué alumnos tienen más probabilidad de éxito en sus cursadas, de acuerdo a los datos que se encuentran en el dataset. En ese caso las columnas más relevantes serían (en orden de aparición):\n",
    "<ul>\n",
    "<li>\n",
    "<b>Course</b>: importante porque cada carrera tendrá sus particularidades, que serán un factor determinante en la cursada del estudiante. Además nos permite analizar la deserción según carrera.\n",
    "</li>\n",
    "<li>\n",
    "<b>D/E attendance</b>: utilizando este dato podemos observar si el horario de cursada está relacionado a, o afecta de alguna manera el resultado de la cursada.\n",
    "</li>\n",
    "<li>\n",
    "<b>Prev. qualification</b>: conocer el nivel académico y habilidades de cada estudiante previo a comenzar nos puede indicar si afecta el desarrollo de la cursada, al compararlo con otros estudiantes en distintos niveles. \n",
    "</li>\n",
    "<li>\n",
    "<b>Variables socioeconómicas</b>: nucleando las 4 columnas que tratan de los padres del estudiante, junto con las variables <b>Displaced</b>, <b>Debtor</b>, <b>Tuition fees up to date</b> y <b>Scholarship holder</b>, podríamos realizar un diagnóstico socioeconómico del estudiante que sería útil para realizar comparaciones con otros estudiantes y sus resultados.\n",
    "</li>\n",
    "<li>\n",
    "<b>Educational special needs</b>: importante variable ya que nos indica que el estudiante posee necesidades especiales, y podemos observar si ésto influye (y cómo) en los resultados de cursada.\n",
    "</li>\n",
    "<li>\n",
    "<b>Resultados de semestres</b>: por supuesto que las variables \"Curricular units\" serán importantes para el análisis ya que nos indican el desarrollo y resultado de la cursada.\n",
    "</li>\n",
    "</ul>"
   ]
  },
  {
   "attachments": {},
   "cell_type": "markdown",
   "metadata": {},
   "source": [
    "## Dataset 2 - SEER Breast Cancer Dataset"
   ]
  },
  {
   "attachments": {},
   "cell_type": "markdown",
   "metadata": {},
   "source": [
    "#### Fuente:\n",
    "https://zenodo.org/record/5120960\n",
    "\n",
    "#### Información sobre el dataset:\n",
    "This dataset of breast cancer patients was obtained from the 2017 November update of the SEER Program of the NCI, which provides information on population-based cancer statistics. The dataset involved female patients with infiltrating duct and lobular carcinoma breast cancer (SEER primary cites recode NOS histology codes 8522/3) diagnosed in 2006-2010. Patients with unknown tumor size, examined regional LNs, regional positive LNs, and patients whose survival months were less than 1 month were excluded; thus, 4024 patients were ultimately included."
   ]
  },
  {
   "attachments": {},
   "cell_type": "markdown",
   "metadata": {},
   "source": [
    "### Carga de los datos a python:"
   ]
  },
  {
   "cell_type": "code",
   "execution_count": 15,
   "metadata": {},
   "outputs": [
    {
     "data": {
      "text/plain": [
       "(4024, 16)"
      ]
     },
     "execution_count": 15,
     "metadata": {},
     "output_type": "execute_result"
    }
   ],
   "source": [
    "seerBreastCancerDF = pd.read_csv('../data/DS 2 - SEER Breast Cancer Dataset.csv')\n",
    "\n",
    "seerBreastCancerDF.shape"
   ]
  },
  {
   "attachments": {},
   "cell_type": "markdown",
   "metadata": {},
   "source": [
    "Viendo que cumple las condiciones del desafío, analizamos las columnas relevantes."
   ]
  },
  {
   "cell_type": "code",
   "execution_count": 16,
   "metadata": {},
   "outputs": [
    {
     "name": "stdout",
     "output_type": "stream",
     "text": [
      "Index(['Age', 'Race ', 'Marital Status', 'Unnamed: 3', 'T Stage ', 'N Stage',\n",
      "       '6th Stage', 'Grade', 'A Stage', 'Tumor Size', 'Estrogen Status',\n",
      "       'Progesterone Status', 'Regional Node Examined',\n",
      "       'Reginol Node Positive', 'Survival Months', 'Status'],\n",
      "      dtype='object')\n"
     ]
    }
   ],
   "source": [
    "#Imprimimos las columnas:\n",
    "\n",
    "print(seerBreastCancerDF.columns)"
   ]
  },
  {
   "attachments": {},
   "cell_type": "markdown",
   "metadata": {},
   "source": [
    "En este caso resulta interesante analizar como se relacionan las distintas variables para determinar la supervivencia de la paciente, de acuerdo a los períodos contemplados.\n",
    "\n",
    "<ul>\n",
    "<li>\n",
    "<b>Age</b>: representa la edad al momento de diagnóstico, una métrica importante en el ámbito de la salud que nos puede servir para comparar con otras pacientes y determinar si influye en la supervivencia.\n",
    "</li>\n",
    "<li>\n",
    "<b>Race</b>: podemos analizar si la etnia de la persona influye en el desarrollo del cáncer.\n",
    "</li>\n",
    "<li>\n",
    "<b>Stages</b>: las columnas <b>T Stage</b>, <b>N Stage</b>, <b>6th Stage</b>, y <b>A Stage</b> nos brindan información sobre el/los tumores y su localización, vital para determinar la supervivencia de la paciente.\n",
    "</li>\n",
    "<li>\n",
    "<b>Hormonas</b>: las variables <b>Estrogen Status</b> y <b>Progesternoe Status</b> nos pueden indicar si hay una relación entre su presencia y la supervivencia\n",
    "</li>\n",
    "<li>\n",
    "<b>Survival Months</b>: muy importante para determinar, en los casos de muerte, la esperanza de vida de las pacientes según cada cáncer, y en los casos de vida, comparar con lo obtenido anteriormente para analizar la fiabilidad de los resultados.\n",
    "</li>\n",
    "<li>\n",
    "<b>Status</b>: el dato clave que nos indica si la paciente falleció o sigue viva para la fecha de la muestra. \n",
    "</li>\n",
    "</ul>"
   ]
  },
  {
   "attachments": {},
   "cell_type": "markdown",
   "metadata": {},
   "source": [
    "## Dataset 3 - Marketing Campaign"
   ]
  },
  {
   "attachments": {},
   "cell_type": "markdown",
   "metadata": {},
   "source": [
    "#### Fuente:\n",
    "https://www.kaggle.com/datasets/imakash3011/customer-personality-analysis\n",
    "\n",
    "#### Información sobre el dataset:\n",
    "Customer Personality Analysis is a detailed analysis of a company’s ideal customers. It helps a business to better understand its customers and makes it easier for them to modify products according to the specific needs, behaviors and concerns of different types of customers.\n",
    "\n",
    "Customer personality analysis helps a business to modify its product based on its target customers from different types of customer segments. For example, instead of spending money to market a new product to every customer in the company’s database, a company can analyze which customer segment is most likely to buy the product and then market the product only on that particular segment."
   ]
  },
  {
   "attachments": {},
   "cell_type": "markdown",
   "metadata": {},
   "source": [
    "### Carga de los datos a python"
   ]
  },
  {
   "cell_type": "code",
   "execution_count": 17,
   "metadata": {},
   "outputs": [
    {
     "data": {
      "text/plain": [
       "(2240, 29)"
      ]
     },
     "execution_count": 17,
     "metadata": {},
     "output_type": "execute_result"
    }
   ],
   "source": [
    "marketingDF = pd.read_table('../data/DS 3 - Marketing Campaign.txt')\n",
    "\n",
    "marketingDF.shape"
   ]
  },
  {
   "attachments": {},
   "cell_type": "markdown",
   "metadata": {},
   "source": [
    "Ya vemos que cumple la condición del desafío. Ahora observamos las columnas para analizar las más importantes."
   ]
  },
  {
   "cell_type": "code",
   "execution_count": 18,
   "metadata": {},
   "outputs": [
    {
     "name": "stdout",
     "output_type": "stream",
     "text": [
      "Index(['ID', 'Year_Birth', 'Education', 'Marital_Status', 'Income', 'Kidhome',\n",
      "       'Teenhome', 'Dt_Customer', 'Recency', 'MntWines', 'MntFruits',\n",
      "       'MntMeatProducts', 'MntFishProducts', 'MntSweetProducts',\n",
      "       'MntGoldProds', 'NumDealsPurchases', 'NumWebPurchases',\n",
      "       'NumCatalogPurchases', 'NumStorePurchases', 'NumWebVisitsMonth',\n",
      "       'AcceptedCmp3', 'AcceptedCmp4', 'AcceptedCmp5', 'AcceptedCmp1',\n",
      "       'AcceptedCmp2', 'Complain', 'Z_CostContact', 'Z_Revenue', 'Response'],\n",
      "      dtype='object')\n"
     ]
    }
   ],
   "source": [
    "# Imprimimos las columnas\n",
    "\n",
    "print(marketingDF.columns)"
   ]
  },
  {
   "attachments": {},
   "cell_type": "markdown",
   "metadata": {},
   "source": [
    "El objetivo del dataset es categorizar a los distintos clientes, para entender la base consumidora de la empresa y asi adaptar los productos según la misma. Para esto las columnas mas importantes serían:\n",
    "\n",
    "<b>Columnas sobre la persona</b>: \n",
    "<ul>\n",
    "<li>\n",
    "<b>Income</b>: nos sirve como métrica demográfica.\n",
    "</li>\n",
    "<li>\n",
    "<b>Dt_Customer</b>: es la fecha en la que comenzó a ser cliente, útil para determinar la fidelidad y si los clientes continúan comprando en el tiempo.\n",
    "</li>\n",
    "<li>\n",
    "<b>Recency</b>: es el número de días desde la última compra del cliente. Podemos utilizarla para determinar si el cliente ha desertado.\n",
    "</li>\n",
    "</ul>\n",
    "<b>Columnas sobre productos comprados</b>:\n",
    "<ul>\n",
    "<li>\n",
    "<b>Suma gastada por producto</b>: las columnas \"Mnt...\" nos indican la suma que el cliente ha gastado según producto. Muy importante para determinar los intereses del cliente, y ver los productos más vendidos.\n",
    "</li>\n",
    "</ul>\n",
    "<b>Columnas sobre el lugar de compra</b>:\n",
    "<ul>\n",
    "<li>\n",
    "<b>Num \"...\" Purchases</b>: estas columnas nos indican el numero de compras realizadas según el lugar (tienda web, local o catálogo), nos indican qué método de compra prefieren los clientes, y cuantas compras han realizado.\n",
    "</li>\n",
    "</ul>"
   ]
  }
 ],
 "metadata": {
  "kernelspec": {
   "display_name": "Python 3",
   "language": "python",
   "name": "python3"
  },
  "language_info": {
   "codemirror_mode": {
    "name": "ipython",
    "version": 3
   },
   "file_extension": ".py",
   "mimetype": "text/x-python",
   "name": "python",
   "nbconvert_exporter": "python",
   "pygments_lexer": "ipython3",
   "version": "3.10.4"
  },
  "orig_nbformat": 4,
  "vscode": {
   "interpreter": {
    "hash": "3ad933181bd8a04b432d3370b9dc3b0662ad032c4dfaa4e4f1596c548f763858"
   }
  }
 },
 "nbformat": 4,
 "nbformat_minor": 2
}
