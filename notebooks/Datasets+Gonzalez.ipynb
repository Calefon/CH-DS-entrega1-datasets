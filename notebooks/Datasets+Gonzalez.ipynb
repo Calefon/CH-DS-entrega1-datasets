{
 "cells": [
  {
   "attachments": {},
   "cell_type": "markdown",
   "metadata": {},
   "source": [
    "# Entrega 1 - Elección de datasets potenciales"
   ]
  },
  {
   "attachments": {},
   "cell_type": "markdown",
   "metadata": {},
   "source": [
    "## Importación de módulos"
   ]
  },
  {
   "cell_type": "code",
   "execution_count": 1,
   "metadata": {},
   "outputs": [],
   "source": [
    "import pandas as pd\n",
    "import numpy as np\n",
    "import matplotlib.pyplot as plt"
   ]
  },
  {
   "attachments": {},
   "cell_type": "markdown",
   "metadata": {},
   "source": [
    "## Dataset 1 - student info at higher education institute"
   ]
  },
  {
   "attachments": {},
   "cell_type": "markdown",
   "metadata": {},
   "source": [
    "#### Fuente:\n",
    "https://www.kaggle.com/datasets/thedevastator/higher-education-predictors-of-student-retention\n",
    "\n",
    "#### Información sobre el dataset:\n",
    "\n",
    "A dataset created from a higher education institution (acquired from several disjoint databases) related to students enrolled in different undergraduate degrees, such as agronomy, design, education, nursing, journalism, management, social service, and technologies.\n",
    "\n",
    "The dataset includes information known at the time of student enrollment (academic path, demographics, and social-economic factors) and the students' academic performance at the end of the first and second semesters.\n",
    "\n",
    "The data is used to build classification models to predict students' dropout and academic success."
   ]
  },
  {
   "attachments": {},
   "cell_type": "markdown",
   "metadata": {},
   "source": [
    "### Carga de los datos a python:"
   ]
  },
  {
   "cell_type": "code",
   "execution_count": 2,
   "metadata": {},
   "outputs": [
    {
     "data": {
      "text/plain": [
       "(4424, 35)"
      ]
     },
     "execution_count": 2,
     "metadata": {},
     "output_type": "execute_result"
    }
   ],
   "source": [
    "studentsDF = pd.read_csv('../data/DS 1 - Students.csv')\n",
    "\n",
    "studentsDF.shape"
   ]
  },
  {
   "attachments": {},
   "cell_type": "markdown",
   "metadata": {},
   "source": [
    "Vemos que este dataset cumple con las condiciones necesarias para la entrega, ahora pasamos a describir las columnas más interesantes de acuerdo al problema planteado (analizar la deserción y el éxito de los alumnos)."
   ]
  },
  {
   "cell_type": "code",
   "execution_count": 3,
   "metadata": {},
   "outputs": [
    {
     "name": "stdout",
     "output_type": "stream",
     "text": [
      "Index(['Marital status', 'Application mode', 'Application order', 'Course',\n",
      "       'Daytime/evening attendance', 'Previous qualification', 'Nacionality',\n",
      "       'Mother's qualification', 'Father's qualification',\n",
      "       'Mother's occupation', 'Father's occupation', 'Displaced',\n",
      "       'Educational special needs', 'Debtor', 'Tuition fees up to date',\n",
      "       'Gender', 'Scholarship holder', 'Age at enrollment', 'International',\n",
      "       'Curricular units 1st sem (credited)',\n",
      "       'Curricular units 1st sem (enrolled)',\n",
      "       'Curricular units 1st sem (evaluations)',\n",
      "       'Curricular units 1st sem (approved)',\n",
      "       'Curricular units 1st sem (grade)',\n",
      "       'Curricular units 1st sem (without evaluations)',\n",
      "       'Curricular units 2nd sem (credited)',\n",
      "       'Curricular units 2nd sem (enrolled)',\n",
      "       'Curricular units 2nd sem (evaluations)',\n",
      "       'Curricular units 2nd sem (approved)',\n",
      "       'Curricular units 2nd sem (grade)',\n",
      "       'Curricular units 2nd sem (without evaluations)', 'Unemployment rate',\n",
      "       'Inflation rate', 'GDP', 'Target'],\n",
      "      dtype='object')\n"
     ]
    }
   ],
   "source": [
    "#Primero imprimimos una visualización de las columnas\n",
    "\n",
    "print(studentsDF.columns)"
   ]
  },
  {
   "attachments": {},
   "cell_type": "markdown",
   "metadata": {},
   "source": [
    "Podríamos considerar realizar un análisis de qué alumnos tienen más probabilidad de éxito en sus cursadas, de acuerdo a los datos que se encuentran en el dataset. En ese caso las columnas más relevantes serían (en orden de aparición):\n",
    "<ul>\n",
    "<li>\n",
    "<b>Course</b>: importante porque cada carrera tendrá sus particularidades, que serán un factor determinante en la cursada del estudiante. Además nos permite analizar la deserción según carrera.\n",
    "</li>\n",
    "<li>\n",
    "<b>D/E attendance</b>: utilizando este dato podemos observar si el horario de cursada está relacionado a, o afecta de alguna manera el resultado de la cursada.\n",
    "</li>\n",
    "<li>\n",
    "<b>Prev. qualification</b>: conocer el nivel académico y habilidades de cada estudiante previo a comenzar nos puede indicar si afecta el desarrollo de la cursada, al compararlo con otros estudiantes en distintos niveles. \n",
    "</li>\n",
    "<li>\n",
    "<b>Variables socioeconómicas</b>: nucleando las 4 columnas que tratan de los padres del estudiante, junto con las variables <b>Displaced</b>, <b>Debtor</b>, <b>Tuition fees up to date</b> y <b>Scholarship holder</b>, podríamos realizar un diagnóstico socioeconómico del estudiante que sería útil para realizar comparaciones con otros estudiantes y sus resultados.\n",
    "</li>\n",
    "<li>\n",
    "<b>Educational special needs</b>: importante variable ya que nos indica que el estudiante posee necesidades especiales, y podemos observar si ésto influye (y cómo) en los resultados de cursada.\n",
    "</li>\n",
    "<li>\n",
    "<b>Resultados de semestres</b>: por supuesto que las variables \"Curricular units\" serán importantes para el análisis ya que nos indican el desarrollo y resultado de la cursada.\n",
    "</li>\n"
   ]
  },
  {
   "attachments": {},
   "cell_type": "markdown",
   "metadata": {},
   "source": [
    "## Dataset 2 - SEER Breast Cancer Dataset"
   ]
  },
  {
   "cell_type": "markdown",
   "metadata": {},
   "source": []
  }
 ],
 "metadata": {
  "kernelspec": {
   "display_name": "Python 3",
   "language": "python",
   "name": "python3"
  },
  "language_info": {
   "codemirror_mode": {
    "name": "ipython",
    "version": 3
   },
   "file_extension": ".py",
   "mimetype": "text/x-python",
   "name": "python",
   "nbconvert_exporter": "python",
   "pygments_lexer": "ipython3",
   "version": "3.10.4"
  },
  "orig_nbformat": 4,
  "vscode": {
   "interpreter": {
    "hash": "3ad933181bd8a04b432d3370b9dc3b0662ad032c4dfaa4e4f1596c548f763858"
   }
  }
 },
 "nbformat": 4,
 "nbformat_minor": 2
}
